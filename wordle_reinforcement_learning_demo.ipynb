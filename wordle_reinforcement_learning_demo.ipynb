{
 "cells": [
  {
   "cell_type": "code",
   "execution_count": 21,
   "id": "3f931f31",
   "metadata": {},
   "outputs": [],
   "source": [
    "#\n",
    "# Wordle.py\n",
    "#\n",
    "\n",
    "import streamlit as st\n",
    "import csv\n",
    "import random\n",
    "dictionary = []\n",
    "record = []\n",
    "\n",
    "with open('5_letters.csv', 'r') as file:\n",
    "    reader = csv.reader(file)\n",
    "    listlist = list(reader)\n",
    "    \n",
    "for i in range(len(listlist)-1):\n",
    "    dictionary.append(''.join(listlist[i+1]))\n",
    "     \n",
    "def wordle_feedback(target_word, guess_word):\n",
    "    green = [(i, g) for i, (t, g) in enumerate(zip(target_word, guess_word)) if t == g]\n",
    "    remaining = [(i, t, g) for i, (t, g) in enumerate(zip(target_word, guess_word)) if t != g]\n",
    "    \n",
    "    remaining_target = [t for i, t, g in remaining]\n",
    "    yellow = []\n",
    "    black = []\n",
    "\n",
    "    for i, t, g in remaining:\n",
    "        if g in remaining_target:\n",
    "            yellow.append((i, g))\n",
    "            remaining_target.remove(g)  # Remove the letter from the target list so it can't be used again\n",
    "        else:\n",
    "            black.append((i, g))\n",
    "\n",
    "    return {\"green\": green, \"yellow\": yellow, \"black\": black}\n",
    "\n",
    "\n",
    "def is_consistent(word, feedback):\n",
    "    # Create list from word and a copy for yellow check\n",
    "    word_list = list(word)\n",
    "    remaining_letters = word_list.copy()\n",
    "\n",
    "    # 'green' checks: correct letter must be at the correct index\n",
    "    for index, letter in feedback['green']:\n",
    "        if word_list[index] != letter:\n",
    "            return False\n",
    "        remaining_letters.remove(letter)  # Mark as used\n",
    "\n",
    "    # 'yellow' checks: correct letter can't be at the same index, but must exist elsewhere\n",
    "    for index, letter in feedback['yellow']:\n",
    "        if word_list[index] == letter or letter not in remaining_letters:\n",
    "            return False\n",
    "        remaining_letters.remove(letter)  # Mark as used\n",
    "\n",
    "    # 'black' checks: letter must not be in the word at all\n",
    "    for index, letter in feedback['black']:\n",
    "        if letter in remaining_letters:\n",
    "            return False\n",
    "\n",
    "    return True\n",
    "\n",
    "\n",
    "def create_Qtable(dictionary):\n",
    "    \n",
    "    dict = {key: 0 for key in dictionary} #create dictionary\n",
    "    \n",
    "    for key1 in dict: #step through potential target words\n",
    "        for key2 in dict: #step through each word in dictrionary\n",
    "            \n",
    "            feedback = wordle_feedback(key1, key2) #feedback for traget key1 compared with guess key2\n",
    "            \n",
    "            for key3 in dict: #computing reduction in length of dictionary by chosing key1 for each key2\n",
    "                \n",
    "                inconsistent = 0 #reset counter \n",
    "                \n",
    "                if not is_consistent(key3, feedback):\n",
    "                    inconsistent += 1 #counting how many words are eliminated from dicationary \n",
    "                    \n",
    "                dict[key2] = dict[key2] + inconsistent #updates key2 for reduction in length of dictionary\n",
    "                #Updating Qtable\n",
    "        \n",
    "    return(dict)\n",
    "\n",
    "def play_wordle(word):\n",
    "    \"\"\" \n",
    "    \n",
    "    \"\"\"\n",
    "    \n",
    "    feedback = wordle_feedback(word, \"cares\")\n",
    "    \n",
    "    remaining_dict = []\n",
    "    \n",
    "    for wordtest in dictionary:\n",
    "        if is_consistent(wordtest, feedback):\n",
    "            remaining_dict.append(wordtest)\n",
    "            \n",
    "    Qtable = create_Qtable(remaining_dict)\n",
    "    \n",
    "    guess = nextguess(Qtable)\n",
    "    remaining_dict.remove(guess)\n",
    "    \n",
    "   \n",
    "    for i in range(2,55):\n",
    "        feedback = wordle_feedback(word, guess)\n",
    "        print(\"Feedback = \", feedback)\n",
    "        if len(feedback['green']) == 5:\n",
    "#             print(i, \"tries\")\n",
    "            record.append(i)\n",
    "            break\n",
    "            \n",
    "        temp = []\n",
    "            \n",
    "        for wordtest in remaining_dict:    \n",
    "            if is_consistent(wordtest, feedback):\n",
    "                temp.append(wordtest)\n",
    "                \n",
    "        remaining_dict = temp\n",
    "            \n",
    "        Qtable = create_Qtable(remaining_dict)\n",
    "    \n",
    "        guess = nextguess(Qtable)\n",
    "    \n",
    "        print(guess)\n",
    "        remaining_dict.remove(guess)\n",
    "  \n",
    "    \n",
    "    return record\n",
    "\n",
    "def nextguess(d):\n",
    "    #find a key with a maximum value.  Choose randomly if there is a tie\n",
    "    \n",
    "    import random\n",
    "    \n",
    "    max_val = max(d.values())\n",
    "    keys_with_max_val = [key for key, value in d.items() if value == max_val]\n",
    "    return random.choice(keys_with_max_val)"
   ]
  },
  {
   "cell_type": "code",
   "execution_count": 19,
   "id": "9d7b7a10",
   "metadata": {},
   "outputs": [
    {
     "data": {
      "text/plain": [
       "'arose'"
      ]
     },
     "execution_count": 19,
     "metadata": {},
     "output_type": "execute_result"
    }
   ],
   "source": []
  },
  {
   "cell_type": "code",
   "execution_count": 23,
   "id": "f68c1c61",
   "metadata": {},
   "outputs": [
    {
     "name": "stdout",
     "output_type": "stream",
     "text": [
      "banks\n",
      "daubs\n",
      "3 tries\n",
      "[6, 3]\n"
     ]
    }
   ],
   "source": [
    "random.choice(dictionary)\n",
    "word = random.choice(dictionary)\n",
    "result = play_wordle(word)\n",
    "print(result)\n"
   ]
  },
  {
   "cell_type": "code",
   "execution_count": 24,
   "id": "1a9d84ce",
   "metadata": {},
   "outputs": [],
   "source": [
    "import pandas as pd"
   ]
  },
  {
   "cell_type": "code",
   "execution_count": 25,
   "id": "d70f791f",
   "metadata": {},
   "outputs": [],
   "source": [
    "df = pd.read_csv(\"5_letters.csv\")"
   ]
  },
  {
   "cell_type": "code",
   "execution_count": 26,
   "id": "5403d6fa",
   "metadata": {},
   "outputs": [
    {
     "data": {
      "text/html": [
       "<div>\n",
       "<style scoped>\n",
       "    .dataframe tbody tr th:only-of-type {\n",
       "        vertical-align: middle;\n",
       "    }\n",
       "\n",
       "    .dataframe tbody tr th {\n",
       "        vertical-align: top;\n",
       "    }\n",
       "\n",
       "    .dataframe thead th {\n",
       "        text-align: right;\n",
       "    }\n",
       "</style>\n",
       "<table border=\"1\" class=\"dataframe\">\n",
       "  <thead>\n",
       "    <tr style=\"text-align: right;\">\n",
       "      <th></th>\n",
       "      <th>1</th>\n",
       "      <th>2</th>\n",
       "      <th>3</th>\n",
       "      <th>4</th>\n",
       "      <th>5</th>\n",
       "    </tr>\n",
       "  </thead>\n",
       "  <tbody>\n",
       "    <tr>\n",
       "      <th>0</th>\n",
       "      <td>a</td>\n",
       "      <td>b</td>\n",
       "      <td>a</td>\n",
       "      <td>c</td>\n",
       "      <td>k</td>\n",
       "    </tr>\n",
       "    <tr>\n",
       "      <th>1</th>\n",
       "      <td>a</td>\n",
       "      <td>b</td>\n",
       "      <td>a</td>\n",
       "      <td>s</td>\n",
       "      <td>e</td>\n",
       "    </tr>\n",
       "    <tr>\n",
       "      <th>2</th>\n",
       "      <td>a</td>\n",
       "      <td>b</td>\n",
       "      <td>a</td>\n",
       "      <td>t</td>\n",
       "      <td>e</td>\n",
       "    </tr>\n",
       "    <tr>\n",
       "      <th>3</th>\n",
       "      <td>a</td>\n",
       "      <td>b</td>\n",
       "      <td>a</td>\n",
       "      <td>y</td>\n",
       "      <td>a</td>\n",
       "    </tr>\n",
       "    <tr>\n",
       "      <th>4</th>\n",
       "      <td>a</td>\n",
       "      <td>b</td>\n",
       "      <td>b</td>\n",
       "      <td>e</td>\n",
       "      <td>y</td>\n",
       "    </tr>\n",
       "  </tbody>\n",
       "</table>\n",
       "</div>"
      ],
      "text/plain": [
       "   1  2  3  4  5\n",
       "0  a  b  a  c  k\n",
       "1  a  b  a  s  e\n",
       "2  a  b  a  t  e\n",
       "3  a  b  a  y  a\n",
       "4  a  b  b  e  y"
      ]
     },
     "execution_count": 26,
     "metadata": {},
     "output_type": "execute_result"
    }
   ],
   "source": [
    "df.head()"
   ]
  },
  {
   "cell_type": "code",
   "execution_count": 39,
   "id": "e3297ca7",
   "metadata": {},
   "outputs": [
    {
     "data": {
      "image/png": "[encoded data removed]",
      "text/plain": [
       "<Figure size 640x480 with 1 Axes>"
      ]
     },
     "metadata": {},
     "output_type": "display_data"
    }
   ],
   "source": [
    "df['1'].hist(grid=False);"
   ]
  },
  {
   "cell_type": "code",
   "execution_count": 32,
   "id": "4f5c7cae",
   "metadata": {},
   "outputs": [
    {
     "data": {
      "image/png": "[encoded data removed]",
      "text/plain": [
       "<Figure size 640x480 with 1 Axes>"
      ]
     },
     "metadata": {},
     "output_type": "display_data"
    }
   ],
   "source": [
    "df[df['1']=='c']['2'].hist();"
   ]
  },
  {
   "cell_type": "code",
   "execution_count": 37,
   "id": "21d0f537",
   "metadata": {},
   "outputs": [
    {
     "ename": "TypeError",
     "evalue": "hist_frame() missing 1 required positional argument: 'data'",
     "output_type": "error",
     "traceback": [
      "\u001b[0;31m---------------------------------------------------------------------------\u001b[0m",
      "\u001b[0;31mTypeError\u001b[0m                                 Traceback (most recent call last)",
      "Cell \u001b[0;32mIn[37], line 1\u001b[0m\n\u001b[0;32m----> 1\u001b[0m pd\u001b[38;5;241m.\u001b[39mDataFrame\u001b[38;5;241m.\u001b[39mhist()\n",
      "\u001b[0;31mTypeError\u001b[0m: hist_frame() missing 1 required positional argument: 'data'"
     ]
    }
   ],
   "source": [
    "pd.DataFrame.hist()"
   ]
  },
  {
   "cell_type": "code",
   "execution_count": null,
   "id": "9e2d24e3",
   "metadata": {},
   "outputs": [],
   "source": []
  }
 ],
 "metadata": {
  "kernelspec": {
   "display_name": "Python 3 (ipykernel)",
   "language": "python",
   "name": "python3"
  },
  "language_info": {
   "codemirror_mode": {
    "name": "ipython",
    "version": 3
   },
   "file_extension": ".py",
   "mimetype": "text/x-python",
   "name": "python",
   "nbconvert_exporter": "python",
   "pygments_lexer": "ipython3",
   "version": "3.11.3"
  }
 },
 "nbformat": 4,
 "nbformat_minor": 5
}
